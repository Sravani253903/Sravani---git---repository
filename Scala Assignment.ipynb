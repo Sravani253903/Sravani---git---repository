{
 "cells": [
  {
   "cell_type": "code",
   "execution_count": 5,
   "id": "93fd9353-c800-48ef-a595-6d2080779ddf",
   "metadata": {},
   "outputs": [
    {
     "name": "stdout",
     "output_type": "stream",
     "text": [
      "Sum of array elements: 55\n",
      "Average of array elements: 5.5\n",
      "Modified array elements (each multiplied by 2): 2, 4, 6, 8, 10, 12, 14, 16, 18, 20\n"
     ]
    },
    {
     "data": {
      "text/plain": [
       "defined object BasicArrayOperations\r\n"
      ]
     },
     "execution_count": 5,
     "metadata": {},
     "output_type": "execute_result"
    }
   ],
   "source": [
    " object BasicArrayOperations {\n",
    "  def main(args: Array[String]): Unit = {\n",
    "    // Step 1: Create an array of integers with 10 elements\n",
    "    val arr = Array(1, 2, 3, 4, 5, 6, 7, 8, 9, 10)\n",
    "    \n",
    "    // Step 2: Calculate the sum of all elements\n",
    "    val sum = arr.sum\n",
    "    println(s\"Sum of array elements: $sum\")\n",
    "    \n",
    "    // Step 3: Calculate the average of all elements\n",
    "    val average = sum.toDouble / arr.length\n",
    "    println(s\"Average of array elements: $average\")\n",
    "\n",
    "    // Step 4: Modify the array by multiplying each element by 2\n",
    "    val modifiedArray = arr.map(_ * 2)\n",
    "    println(\"Modified array elements (each multiplied by 2): \" + modifiedArray.mkString(\", \"))\n",
    "  }\n",
    "}\n",
    "\n",
    "// Run the program\n",
    "BasicArrayOperations.main(Array())"
   ]
  },
  {
   "cell_type": "code",
   "execution_count": 6,
   "id": "b368918d-f2e5-4331-b4d7-dd499f4278db",
   "metadata": {},
   "outputs": [
    {
     "name": "stdout",
     "output_type": "stream",
     "text": [
      "Reversed array: 10, 21, 89, 56, 3, 78, 45, 12\n",
      "Maximum element in the array: 89\n",
      "Minimum element in the array: 3\n"
     ]
    },
    {
     "data": {
      "text/plain": [
       "defined object ArrayManipulation\r\n"
      ]
     },
     "execution_count": 6,
     "metadata": {},
     "output_type": "execute_result"
    }
   ],
   "source": [
    "object ArrayManipulation {\n",
    "  def main(args: Array[String]): Unit = {\n",
    "    // Step 1: Create an array of integers\n",
    "    val arr = Array(12, 45, 78, 3, 56, 89, 21, 10)\n",
    "\n",
    "    // Step 2: Reverse the array\n",
    "    val reversedArray = arr.reverse\n",
    "    println(\"Reversed array: \" + reversedArray.mkString(\", \"))\n",
    "\n",
    "    // Step 3: Find the maximum element\n",
    "    val maxElement = arr.max\n",
    "    println(s\"Maximum element in the array: $maxElement\")\n",
    "\n",
    "    // Step 4: Find the minimum element\n",
    "    val minElement = arr.min\n",
    "    println(s\"Minimum element in the array: $minElement\")\n",
    "  }\n",
    "}\n",
    "\n",
    "// Run the program\n",
    "ArrayManipulation.main(Array())"
   ]
  },
  {
   "cell_type": "code",
   "execution_count": 7,
   "id": "49cd1841-360c-4cbf-8598-c0c1ade6c6c3",
   "metadata": {},
   "outputs": [
    {
     "name": "stdout",
     "output_type": "stream",
     "text": [
      "Filtered list (even numbers): 2, 4, 6, 8, 10\n",
      "Sum of even numbers: 30\n"
     ]
    },
    {
     "data": {
      "text/plain": [
       "defined object ListOperations\r\n"
      ]
     },
     "execution_count": 7,
     "metadata": {},
     "output_type": "execute_result"
    }
   ],
   "source": [
    "object ListOperations {\n",
    "  def main(args: Array[String]): Unit = {\n",
    "    // Step 1: Create a list of integers from 1 to 10\n",
    "    val numbers = List(1, 2, 3, 4, 5, 6, 7, 8, 9, 10)\n",
    "\n",
    "    // Step 2: Filter the list to keep only even numbers\n",
    "    val evenNumbers = numbers.filter(_ % 2 == 0)\n",
    "    println(\"Filtered list (even numbers): \" + evenNumbers.mkString(\", \"))\n",
    "\n",
    "    // Step 3: Find the sum of all elements in the filtered list\n",
    "    val sumOfEvenNumbers = evenNumbers.sum\n",
    "    println(s\"Sum of even numbers: $sumOfEvenNumbers\")\n",
    "  }\n",
    "}\n",
    "\n",
    "// Run the program\n",
    "ListOperations.main(Array())"
   ]
  },
  {
   "cell_type": "code",
   "execution_count": 8,
   "id": "a5aa01e6-bd3a-4c8c-bd17-64271a8ede67",
   "metadata": {},
   "outputs": [
    {
     "name": "stdout",
     "output_type": "stream",
     "text": [
      "Stack size after pushing: 3\n",
      "Top element (peek): 30\n",
      "Popped element: 30\n",
      "Stack size after popping: 2\n",
      "Top element (peek): 20\n"
     ]
    },
    {
     "data": {
      "text/plain": [
       "defined class Stack\r\n",
       "defined object StackExample\r\n"
      ]
     },
     "execution_count": 8,
     "metadata": {},
     "output_type": "execute_result"
    }
   ],
   "source": [
    "class Stack[A] {\n",
    "  private var elements: List[A] = Nil\n",
    "\n",
    "  // Push element onto the stack\n",
    "  def push(item: A): Unit = {\n",
    "    elements = item :: elements\n",
    "  }\n",
    "\n",
    "  // Pop element from the stack\n",
    "  def pop(): Option[A] = {\n",
    "    elements match {\n",
    "      case Nil => None\n",
    "      case head :: tail =>\n",
    "        elements = tail\n",
    "        Some(head)\n",
    "    }\n",
    "  }\n",
    "\n",
    "  // Peek the top element of the stack without removing it\n",
    "  def peek(): Option[A] = {\n",
    "    elements match {\n",
    "      case Nil => None\n",
    "      case head :: _ => Some(head)\n",
    "    }\n",
    "  }\n",
    "\n",
    "  // Check if the stack is empty\n",
    "  def isEmpty: Boolean = elements.isEmpty\n",
    "\n",
    "  // Size of the stack\n",
    "  def size: Int = elements.size\n",
    "}\n",
    "\n",
    "// Example usage\n",
    "object StackExample {\n",
    "  def main(args: Array[String]): Unit = {\n",
    "    val stack = new Stack[Int]\n",
    "\n",
    "    // Pushing elements onto the stack\n",
    "    stack.push(10)\n",
    "    stack.push(20)\n",
    "    stack.push(30)\n",
    "    println(\"Stack size after pushing: \" + stack.size)\n",
    "\n",
    "    // Peek the top element\n",
    "    println(\"Top element (peek): \" + stack.peek().getOrElse(\"Stack is empty\"))\n",
    "\n",
    "    // Pop elements from the stack\n",
    "    println(\"Popped element: \" + stack.pop().getOrElse(\"Stack is empty\"))\n",
    "    println(\"Stack size after popping: \" + stack.size)\n",
    "\n",
    "    // Peek again after popping\n",
    "    println(\"Top element (peek): \" + stack.peek().getOrElse(\"Stack is empty\"))\n",
    "  }\n",
    "}\n",
    "\n",
    "// Run the program\n",
    "StackExample.main(Array())"
   ]
  },
  {
   "cell_type": "code",
   "execution_count": 9,
   "id": "2cff6937-f46c-459a-85a7-e6f2349258b1",
   "metadata": {},
   "outputs": [
    {
     "data": {
      "text/plain": [
       "countryCapitalMap: Map[String,String] = Map(USA -> Washington, D.C., Japan -> Tokyo, Canada -> Ottawa, France -> Paris, Germany -> Berlin)\r\n"
      ]
     },
     "execution_count": 9,
     "metadata": {},
     "output_type": "execute_result"
    }
   ],
   "source": [
    "// creating map\n",
    "val countryCapitalMap: Map[String, String] = Map(\n",
    "  \"USA\" -> \"Washington, D.C.\",\n",
    "  \"France\" -> \"Paris\",\n",
    "  \"Germany\" -> \"Berlin\",\n",
    "  \"Japan\" -> \"Tokyo\",\n",
    "  \"Canada\" -> \"Ottawa\"\n",
    ")"
   ]
  },
  {
   "cell_type": "code",
   "execution_count": 10,
   "id": "10e6b2f8-fbe8-430a-8d4f-6b9f335f7e07",
   "metadata": {},
   "outputs": [
    {
     "data": {
      "text/plain": [
       "printCapital: (country: String)Unit\r\n"
      ]
     },
     "execution_count": 10,
     "metadata": {},
     "output_type": "execute_result"
    }
   ],
   "source": [
    "// Checking and Printing Capital\n",
    "def printCapital(country: String): Unit = {\n",
    "  countryCapitalMap.get(country) match {\n",
    "    case Some(capital) => println(s\"The capital of $country is $capital.\")\n",
    "    case None => println(s\"Country $country not found in the map.\")\n",
    "  }\n",
    "}"
   ]
  },
  {
   "cell_type": "code",
   "execution_count": 11,
   "id": "2d0702bd-b70b-4f7d-a14f-699c4e0b4385",
   "metadata": {},
   "outputs": [
    {
     "name": "stdout",
     "output_type": "stream",
     "text": [
      "The capital of Germany is Berlin.\n",
      "Country Brazil not found in the map.\n"
     ]
    }
   ],
   "source": [
    "printCapital(\"Germany\")  // Output: The capital of Germany is Berlin.\n",
    "printCapital(\"Brazil\")   // Output: Country Brazil not found in the map."
   ]
  },
  {
   "cell_type": "code",
   "execution_count": 21,
   "id": "ed7bb64a-1113-48bc-8136-764c639cb460",
   "metadata": {},
   "outputs": [
    {
     "name": "stdout",
     "output_type": "stream",
     "text": [
      "Circle area: 78.53981633974483\n",
      "Circle perimeter: 31.41592653589793\n",
      "Rectangle area: 24.0\n",
      "Rectangle perimeter: 20.0\n"
     ]
    },
    {
     "data": {
      "text/plain": [
       "defined trait Shape\r\n",
       "defined class Circle\r\n",
       "defined class Rectangle\r\n",
       "circle: Circle = Circle@2dcb6993\r\n",
       "rectangle: Rectangle = Rectangle@61bc5db6\r\n"
      ]
     },
     "execution_count": 21,
     "metadata": {},
     "output_type": "execute_result"
    }
   ],
   "source": [
    "// Define the Shape trait\n",
    "trait Shape {\n",
    "  /**\n",
    "   * Calculates the area of the shape.\n",
    "   *\n",
    "   * @return the area of the shape\n",
    "   */\n",
    "  def area(): Double\n",
    "\n",
    "  /**\n",
    "   * Calculates the perimeter of the shape.\n",
    "   *\n",
    "   * @return the perimeter of the shape\n",
    "   */\n",
    "  def perimeter(): Double\n",
    "}\n",
    "\n",
    "// Define the Circle class that extends Shape\n",
    "class Circle(radius: Double) extends Shape {\n",
    "  /**\n",
    "   * Calculates the area of the circle.\n",
    "   *\n",
    "   * @return the area of the circle\n",
    "   */\n",
    "  override def area(): Double = Math.PI * radius * radius\n",
    "\n",
    "  /**\n",
    "   * Calculates the perimeter of the circle.\n",
    "   *\n",
    "   * @return the perimeter of the circle\n",
    "   */\n",
    "  override def perimeter(): Double = 2 * Math.PI * radius\n",
    "}\n",
    "\n",
    "// Define the Rectangle class that extends Shape\n",
    "class Rectangle(width: Double, height: Double) extends Shape {\n",
    "  /**\n",
    "   * Calculates the area of the rectangle.\n",
    "   *\n",
    "   * @return the area of the rectangle\n",
    "   */\n",
    "  override def area(): Double = width * height\n",
    "\n",
    "  /**\n",
    "   * Calculates the perimeter of the rectangle.\n",
    "   *\n",
    "   * @return the perimeter of the rectangle\n",
    "   */\n",
    "  override def perimeter(): Double = 2 * (width + height)\n",
    "}\n",
    "\n",
    "val circle = new Circle(5.0)\n",
    "println(s\"Circle area: ${circle.area()}\")\n",
    "println(s\"Circle perimeter: ${circle.perimeter()}\")\n",
    "\n",
    "val rectangle = new Rectangle(4.0, 6.0)\n",
    "println(s\"Rectangle area: ${rectangle.area()}\")\n",
    "println(s\"Rectangle perimeter: ${rectangle.perimeter()}\")"
   ]
  },
  {
   "cell_type": "code",
   "execution_count": 29,
   "id": "b0ab22e1-866a-465a-a27d-3b220f43ec2e",
   "metadata": {},
   "outputs": [
    {
     "data": {
      "text/plain": [
       "defined class Animal\r\n"
      ]
     },
     "execution_count": 29,
     "metadata": {},
     "output_type": "execute_result"
    }
   ],
   "source": [
    "// Define the Animal class\n",
    "class Animal {\n",
    "  def speak(): Unit = println(\"The animal makes a sound.\")\n",
    "  def move(): Unit = println(\"The animal moves.\")\n",
    "}"
   ]
  },
  {
   "cell_type": "code",
   "execution_count": 30,
   "id": "9ea19dc8-afeb-412d-a98a-6e5b33b9d657",
   "metadata": {},
   "outputs": [
    {
     "data": {
      "text/plain": [
       "defined class Dog\r\n",
       "defined class Bird\r\n"
      ]
     },
     "execution_count": 30,
     "metadata": {},
     "output_type": "execute_result"
    }
   ],
   "source": [
    "// Define the Dog class\n",
    "class Dog extends Animal {\n",
    "  override def speak(): Unit = println(\"The dog barks.\")\n",
    "  override def move(): Unit = println(\"The dog runs.\")\n",
    "}\n",
    "\n",
    "// Define the Bird class\n",
    "class Bird extends Animal {\n",
    "  override def speak(): Unit = println(\"The bird chirps.\")\n",
    "  override def move(): Unit = println(\"The bird flies.\")\n",
    "}"
   ]
  },
  {
   "cell_type": "code",
   "execution_count": 31,
   "id": "f4e0bbe2-f51f-4d34-928c-b208bf58e311",
   "metadata": {},
   "outputs": [
    {
     "name": "stdout",
     "output_type": "stream",
     "text": [
      "The dog barks.\n",
      "The dog runs.\n",
      "The bird chirps.\n",
      "The bird flies.\n"
     ]
    },
    {
     "data": {
      "text/plain": [
       "dog: Dog = Dog@366972a7\r\n",
       "bird: Bird = Bird@1059c881\r\n"
      ]
     },
     "execution_count": 31,
     "metadata": {},
     "output_type": "execute_result"
    }
   ],
   "source": [
    "val dog = new Dog\n",
    "dog.speak()\n",
    "dog.move()\n",
    "\n",
    "val bird = new Bird\n",
    "bird.speak()\n",
    "bird.move()"
   ]
  },
  {
   "cell_type": "code",
   "execution_count": 32,
   "id": "340b0345-ede7-444f-8334-ac5f79789bf6",
   "metadata": {},
   "outputs": [
    {
     "name": "stdout",
     "output_type": "stream",
     "text": [
      "The dog barks.\n",
      "The dog runs.\n",
      "The bird chirps.\n",
      "The bird flies.\n"
     ]
    },
    {
     "data": {
      "text/plain": [
       "dogInstance: Dog = Dog@48df29d2\r\n",
       "birdInstance: Bird = Bird@7f962fc9\r\n"
      ]
     },
     "execution_count": 32,
     "metadata": {},
     "output_type": "execute_result"
    }
   ],
   "source": [
    "// Create instances of Dog and Bird\n",
    "val dogInstance = new Dog()\n",
    "val birdInstance = new Bird()\n",
    "\n",
    "// Call their speak() and move() methods\n",
    "dogInstance.speak()\n",
    "dogInstance.move()\n",
    "\n",
    "birdInstance.speak()\n",
    "birdInstance.move()"
   ]
  },
  {
   "cell_type": "code",
   "execution_count": 33,
   "id": "b55b055c-b36a-4712-8812-a4298e91bf9e",
   "metadata": {},
   "outputs": [
    {
     "data": {
      "text/plain": [
       "defined class BankAccount\r\n"
      ]
     },
     "execution_count": 33,
     "metadata": {},
     "output_type": "execute_result"
    }
   ],
   "source": [
    "class BankAccount {\n",
    "  private var accountNumber: Long = _\n",
    "  private var balance: Double = _\n",
    "\n",
    "  def setAccountNumber(number: Long): Unit = {\n",
    "    accountNumber = number\n",
    "  }\n",
    "\n",
    "  def getAccountNumber(): Long = {\n",
    "    accountNumber\n",
    "  }\n",
    "\n",
    "  def setBalance(amount: Double): Unit = {\n",
    "    if (amount >= 0) {\n",
    "      balance = amount\n",
    "    } else {\n",
    "      println(\"Invalid balance. Must be non-negative.\")\n",
    "    }\n",
    "  }\n",
    "\n",
    "  def getBalance(): Double = {\n",
    "    balance\n",
    "  }\n",
    "\n",
    "  def deposit(amount: Double): Unit = {\n",
    "    if (amount > 0) {\n",
    "      balance += amount\n",
    "      println(s\"Deposited $amount. New balance: $balance\")\n",
    "    } else {\n",
    "      println(\"Invalid deposit amount. Must be positive.\")\n",
    "    }\n",
    "  }\n",
    "\n",
    "  def withdraw(amount: Double): Unit = {\n",
    "    if (amount > 0 && amount <= balance) {\n",
    "      balance -= amount\n",
    "      println(s\"Withdrew $amount. New balance: $balance\")\n",
    "    } else if (amount > balance) {\n",
    "      println(\"Insufficient funds.\")\n",
    "    } else {\n",
    "      println(\"Invalid withdrawal amount. Must be positive.\")\n",
    "    }\n",
    "  }\n",
    "\n",
    "  def displayBalance(): Unit = {\n",
    "    println(s\"Your current balance is: $balance\")\n",
    "  }\n",
    "}"
   ]
  },
  {
   "cell_type": "code",
   "execution_count": 37,
   "id": "69a379d7-bade-4612-b707-e3af5649649a",
   "metadata": {},
   "outputs": [
    {
     "name": "stdout",
     "output_type": "stream",
     "text": [
      "Deposited 500.0. New balance: 1500.0\n",
      "Insufficient funds.\n",
      "Your current balance is: 1500.0\n"
     ]
    },
    {
     "data": {
      "text/plain": [
       "account: BankAccount = BankAccount@16532cd5\r\n"
      ]
     },
     "execution_count": 37,
     "metadata": {},
     "output_type": "execute_result"
    }
   ],
   "source": [
    "val account = new BankAccount()\n",
    "account.setAccountNumber(1234567890)\n",
    "account.setBalance(1000.0)\n",
    "account.deposit(500.0)\n",
    "account.withdraw(2000.0)\n",
    "account.displayBalance()"
   ]
  },
  {
   "cell_type": "code",
   "execution_count": null,
   "id": "5d7e60ae-8713-4536-bc42-4f3fd50bb1b2",
   "metadata": {},
   "outputs": [],
   "source": []
  }
 ],
 "metadata": {
  "kernelspec": {
   "display_name": "spylon-kernel",
   "language": "scala",
   "name": "spylon-kernel"
  },
  "language_info": {
   "codemirror_mode": "text/x-scala",
   "file_extension": ".scala",
   "help_links": [
    {
     "text": "MetaKernel Magics",
     "url": "https://metakernel.readthedocs.io/en/latest/source/README.html"
    }
   ],
   "mimetype": "text/x-scala",
   "name": "scala",
   "pygments_lexer": "scala",
   "version": "0.4.1"
  }
 },
 "nbformat": 4,
 "nbformat_minor": 5
}
